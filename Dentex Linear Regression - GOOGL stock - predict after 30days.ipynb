{
 "cells": [
  {
   "cell_type": "code",
   "execution_count": 23,
   "metadata": {},
   "outputs": [
    {
     "name": "stdout",
     "output_type": "stream",
     "text": [
      "[  940.97410801   946.16823277   955.64471904   967.28897408   965.02327484\n",
      "   952.84137078   954.13769419   961.72955256   953.96234192   955.48876497\n",
      "   959.02767163   963.26303933   952.73727807   947.57296717   941.96265072\n",
      "   949.02363291   959.19310355   959.3536306    955.94927982   945.63101475\n",
      "   950.01028192   969.17614555   977.02505216   985.98154188   978.93758756\n",
      "   984.61804353   979.70627222   996.22087181  1004.79886015  1005.12367673\n",
      "   999.26962494  1015.99389542  1018.0289034   1020.87021544] 0.976009342861 34\n"
     ]
    }
   ],
   "source": [
    "import pandas as pd\n",
    "import quandl, math, datetime\n",
    "import numpy as np\n",
    "from sklearn import preprocessing, cross_validation, svm\n",
    "from sklearn.linear_model import LinearRegression\n",
    "import matplotlib.pyplot as plt\n",
    "from matplotlib import style\n",
    "style.use('ggplot')\n",
    "df = quandl.get('WIKI/GOOGL')\n",
    "df = df[[\"Adj. Open\", \"Adj. High\", \"Adj. Low\", \"Adj. Close\", \"Adj. Volume\"]] \n",
    "df[\"HL_PCT\"] = (df[\"Adj. High\"] - df[\"Adj. Low\"])/df[\"Adj. Close\"] * 100.0 \n",
    "df[\"PCT_change\"] = (df[\"Adj. Close\"] - df[\"Adj. Open\"])/df[\"Adj. Open\"]* 100.0\n",
    "df = df[[\"Adj. Close\", \"HL_PCT\", \"PCT_change\", \"Adj. Volume\"]]\n",
    "forecast_col='Adj. Close'\n",
    "df.fillna(-999999,inplace=True)\n",
    "forecast_out=int(math.ceil(0.01*len(df)))\n",
    "df['label']=df[forecast_col].shift(-forecast_out)\n",
    "\n",
    "\n",
    "X=np.array(df.drop(['label'],1))\n",
    "X=preprocessing.scale(X)\n",
    "X_lately=X[-forecast_out:]\n",
    "X=X[:-forecast_out]\n",
    "df.dropna(inplace=True)\n",
    "\n",
    "y=np.array(df['label'])\n",
    "#y=y[:-forecast_out]\n",
    "X_train,X_test,y_train,y_test = cross_validation.train_test_split(X,y,test_size=0.2)\n",
    "clf=LinearRegression()\n",
    "clf.fit(X_train,y_train)\n",
    "forecast_set=clf.predict(X_lately)\n",
    "accuracy=clf.score(X_test,y_test)\n",
    "print(forecast_set,accuracy,forecast_out)"
   ]
  },
  {
   "cell_type": "code",
   "execution_count": null,
   "metadata": {
    "collapsed": true
   },
   "outputs": [],
   "source": []
  }
 ],
 "metadata": {
  "kernelspec": {
   "display_name": "Python 3",
   "language": "python",
   "name": "python3"
  },
  "language_info": {
   "codemirror_mode": {
    "name": "ipython",
    "version": 3
   },
   "file_extension": ".py",
   "mimetype": "text/x-python",
   "name": "python",
   "nbconvert_exporter": "python",
   "pygments_lexer": "ipython3",
   "version": "3.6.2"
  }
 },
 "nbformat": 4,
 "nbformat_minor": 2
}
